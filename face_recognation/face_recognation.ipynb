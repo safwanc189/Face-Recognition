{
 "cells": [
  {
   "cell_type": "code",
   "execution_count": 1,
   "metadata": {},
   "outputs": [],
   "source": [
    "import cv2\n",
    "import numpy as np\n",
    "import os"
   ]
  },
  {
   "cell_type": "code",
   "execution_count": 2,
   "metadata": {},
   "outputs": [],
   "source": [
    "def name_map(x):\n",
    "    if x == 'sachin':\n",
    "        return 0\n",
    "    if x == 'obama':\n",
    "        return 1\n",
    "    if x == 'messi':\n",
    "        return 2"
   ]
  },
  {
   "cell_type": "code",
   "execution_count": 3,
   "metadata": {},
   "outputs": [],
   "source": [
    "def get_name(x):\n",
    "    if x == 0:\n",
    "        return 'sachin'\n",
    "    if x == 1:\n",
    "        return 'obama'\n",
    "    if x == 2:\n",
    "        return 'messi'"
   ]
  },
  {
   "cell_type": "code",
   "execution_count": 4,
   "metadata": {},
   "outputs": [],
   "source": [
    "def detect_face(img):\n",
    "    gray = cv2.cvtColor(img,cv2.COLOR_BGR2GRAY)\n",
    "    face_cascade=cv2.CascadeClassifier(\"C:/Users/safwa/AppData/Local/Programs/Python/Python311/Lib/site-packages/cv2//data\\haarcascade_frontalface_default.xml\")\n",
    "    faces=face_cascade.detectMultiScale(gray,scaleFactor=1.1,minNeighbors=4)\n",
    "    if len(faces) == 0:\n",
    "        return None,None\n",
    "    \n",
    "    (x,y,w,h) =  faces[0]\n",
    "    return gray[y:y+w,x:x+h] , faces[0]\n"
   ]
  },
  {
   "cell_type": "code",
   "execution_count": 5,
   "metadata": {},
   "outputs": [
    {
     "data": {
      "text/plain": [
       "['messi', 'obama', 'sachin']"
      ]
     },
     "execution_count": 5,
     "metadata": {},
     "output_type": "execute_result"
    }
   ],
   "source": [
    "dirs = os.listdir('D:/DL_project/face_recognation/DB')\n",
    "dirs"
   ]
  },
  {
   "cell_type": "code",
   "execution_count": 6,
   "metadata": {},
   "outputs": [
    {
     "name": "stdout",
     "output_type": "stream",
     "text": [
      "D:/DL_project/face_recognation/DB/messi/01.jpg\n",
      "D:/DL_project/face_recognation/DB/messi/02.jpg\n",
      "D:/DL_project/face_recognation/DB/messi/03.jpg\n",
      "D:/DL_project/face_recognation/DB/messi/04.jpg\n",
      "D:/DL_project/face_recognation/DB/messi/05.jpg\n",
      "D:/DL_project/face_recognation/DB/messi/06.jpg\n",
      "D:/DL_project/face_recognation/DB/messi/07.jpg\n",
      "D:/DL_project/face_recognation/DB/messi/08.jpg\n",
      "D:/DL_project/face_recognation/DB/messi/09.jpg\n",
      "D:/DL_project/face_recognation/DB/messi/10.jpg\n",
      "D:/DL_project/face_recognation/DB/obama/01.jpg\n",
      "D:/DL_project/face_recognation/DB/obama/02.jpg\n",
      "D:/DL_project/face_recognation/DB/obama/03.jpg\n",
      "D:/DL_project/face_recognation/DB/obama/04.jpg\n",
      "D:/DL_project/face_recognation/DB/obama/05.jpg\n",
      "D:/DL_project/face_recognation/DB/obama/06.jpg\n",
      "D:/DL_project/face_recognation/DB/obama/07.jpg\n",
      "D:/DL_project/face_recognation/DB/obama/08.jpg\n",
      "D:/DL_project/face_recognation/DB/obama/09.jpg\n",
      "D:/DL_project/face_recognation/DB/obama/10.jpg\n",
      "D:/DL_project/face_recognation/DB/sachin/01.jpg\n",
      "D:/DL_project/face_recognation/DB/sachin/02.jpg\n",
      "D:/DL_project/face_recognation/DB/sachin/03.jpg\n",
      "D:/DL_project/face_recognation/DB/sachin/04.jpg\n",
      "D:/DL_project/face_recognation/DB/sachin/05.jpg\n",
      "D:/DL_project/face_recognation/DB/sachin/06.jpg\n",
      "D:/DL_project/face_recognation/DB/sachin/07.jpg\n",
      "D:/DL_project/face_recognation/DB/sachin/08.jpg\n",
      "D:/DL_project/face_recognation/DB/sachin/09.jpg\n",
      "D:/DL_project/face_recognation/DB/sachin/10.jpg\n"
     ]
    }
   ],
   "source": [
    "for dirs_name in dirs:\n",
    "    subject_img_path = 'D:/DL_project/face_recognation/DB' + '/' + dirs_name\n",
    "    subject_img_names =  os.listdir(subject_img_path)\n",
    "\n",
    "    for img_name in subject_img_names:\n",
    "        img_path = subject_img_path + '/' + img_name\n",
    "        print(img_path)"
   ]
  },
  {
   "cell_type": "code",
   "execution_count": 7,
   "metadata": {},
   "outputs": [],
   "source": [
    "def prepare_training_data(data_folder_path):\n",
    "    dirs = os.listdir(data_folder_path)\n",
    "\n",
    "    faces = []\n",
    "    labels = []\n",
    "\n",
    "    for dirs_name in dirs:\n",
    "        label = dirs_name\n",
    "        subject_dirs_path = data_folder_path + '/' + dirs_name\n",
    "        subject_img_names = os.listdir(subject_dirs_path)\n",
    "\n",
    "        for img_name in subject_img_names:\n",
    "            img_path = subject_dirs_path + '/' + img_name\n",
    "\n",
    "            image = cv2.imread(img_path)\n",
    "            cv2.imshow('preparing images.....',image)\n",
    "            cv2.waitKey(1000)\n",
    "\n",
    "            face,rect = detect_face(image)\n",
    "\n",
    "            if face is not None:\n",
    "                faces.append(face)\n",
    "                labels.append(name_map(label))\n",
    "\n",
    "                print(labels)\n",
    "\n",
    "    cv2.waitKey(1)\n",
    "    cv2.destroyAllWindows()\n",
    "\n",
    "    return faces , labels"
   ]
  },
  {
   "cell_type": "code",
   "execution_count": 8,
   "metadata": {},
   "outputs": [
    {
     "name": "stdout",
     "output_type": "stream",
     "text": [
      "preparing data..........\n",
      "[2]\n",
      "[2, 2]\n",
      "[2, 2, 2]\n",
      "[2, 2, 2, 2]\n",
      "[2, 2, 2, 2, 2]\n",
      "[2, 2, 2, 2, 2, 2]\n",
      "[2, 2, 2, 2, 2, 2, 2]\n",
      "[2, 2, 2, 2, 2, 2, 2, 2]\n",
      "[2, 2, 2, 2, 2, 2, 2, 2, 2]\n",
      "[2, 2, 2, 2, 2, 2, 2, 2, 2, 2]\n",
      "[2, 2, 2, 2, 2, 2, 2, 2, 2, 2, 1]\n",
      "[2, 2, 2, 2, 2, 2, 2, 2, 2, 2, 1, 1]\n",
      "[2, 2, 2, 2, 2, 2, 2, 2, 2, 2, 1, 1, 1]\n",
      "[2, 2, 2, 2, 2, 2, 2, 2, 2, 2, 1, 1, 1, 1]\n",
      "[2, 2, 2, 2, 2, 2, 2, 2, 2, 2, 1, 1, 1, 1, 1]\n",
      "[2, 2, 2, 2, 2, 2, 2, 2, 2, 2, 1, 1, 1, 1, 1, 1]\n",
      "[2, 2, 2, 2, 2, 2, 2, 2, 2, 2, 1, 1, 1, 1, 1, 1, 1]\n",
      "[2, 2, 2, 2, 2, 2, 2, 2, 2, 2, 1, 1, 1, 1, 1, 1, 1, 1]\n",
      "[2, 2, 2, 2, 2, 2, 2, 2, 2, 2, 1, 1, 1, 1, 1, 1, 1, 1, 1]\n",
      "[2, 2, 2, 2, 2, 2, 2, 2, 2, 2, 1, 1, 1, 1, 1, 1, 1, 1, 1, 1]\n",
      "[2, 2, 2, 2, 2, 2, 2, 2, 2, 2, 1, 1, 1, 1, 1, 1, 1, 1, 1, 1, 0]\n",
      "[2, 2, 2, 2, 2, 2, 2, 2, 2, 2, 1, 1, 1, 1, 1, 1, 1, 1, 1, 1, 0, 0]\n",
      "[2, 2, 2, 2, 2, 2, 2, 2, 2, 2, 1, 1, 1, 1, 1, 1, 1, 1, 1, 1, 0, 0, 0]\n",
      "[2, 2, 2, 2, 2, 2, 2, 2, 2, 2, 1, 1, 1, 1, 1, 1, 1, 1, 1, 1, 0, 0, 0, 0]\n",
      "[2, 2, 2, 2, 2, 2, 2, 2, 2, 2, 1, 1, 1, 1, 1, 1, 1, 1, 1, 1, 0, 0, 0, 0, 0]\n",
      "[2, 2, 2, 2, 2, 2, 2, 2, 2, 2, 1, 1, 1, 1, 1, 1, 1, 1, 1, 1, 0, 0, 0, 0, 0, 0]\n",
      "[2, 2, 2, 2, 2, 2, 2, 2, 2, 2, 1, 1, 1, 1, 1, 1, 1, 1, 1, 1, 0, 0, 0, 0, 0, 0, 0]\n",
      "[2, 2, 2, 2, 2, 2, 2, 2, 2, 2, 1, 1, 1, 1, 1, 1, 1, 1, 1, 1, 0, 0, 0, 0, 0, 0, 0, 0]\n",
      "[2, 2, 2, 2, 2, 2, 2, 2, 2, 2, 1, 1, 1, 1, 1, 1, 1, 1, 1, 1, 0, 0, 0, 0, 0, 0, 0, 0, 0]\n",
      "data prepared\n"
     ]
    }
   ],
   "source": [
    "print('preparing data..........')\n",
    "faces , labels = prepare_training_data('D:/DL_project/face_recognation/DB')\n",
    "print('data prepared')"
   ]
  },
  {
   "cell_type": "code",
   "execution_count": 9,
   "metadata": {},
   "outputs": [
    {
     "name": "stdout",
     "output_type": "stream",
     "text": [
      "Total faces 29\n"
     ]
    }
   ],
   "source": [
    "print('Total faces',len(faces))\n"
   ]
  },
  {
   "cell_type": "code",
   "execution_count": 10,
   "metadata": {},
   "outputs": [
    {
     "name": "stdout",
     "output_type": "stream",
     "text": [
      "Total labels 29\n"
     ]
    }
   ],
   "source": [
    "print('Total labels',len(labels))\n"
   ]
  },
  {
   "cell_type": "code",
   "execution_count": 11,
   "metadata": {},
   "outputs": [
    {
     "name": "stdout",
     "output_type": "stream",
     "text": [
      "Note: you may need to restart the kernel to use updated packages.Requirement already satisfied: opencv-contrib-python in c:\\users\\safwa\\appdata\\roaming\\python\\python311\\site-packages (4.7.0.72)\n",
      "Requirement already satisfied: numpy>=1.21.2 in c:\\users\\safwa\\appdata\\local\\programs\\python\\python311\\lib\\site-packages (from opencv-contrib-python) (1.24.2)\n",
      "\n"
     ]
    },
    {
     "name": "stderr",
     "output_type": "stream",
     "text": [
      "\n",
      "[notice] A new release of pip is available: 23.1 -> 23.2.1\n",
      "[notice] To update, run: python.exe -m pip install --upgrade pip\n"
     ]
    }
   ],
   "source": [
    "pip install opencv-contrib-python\n"
   ]
  },
  {
   "cell_type": "code",
   "execution_count": 12,
   "metadata": {},
   "outputs": [],
   "source": [
    "#data training\n",
    "face_recognizer = cv2.face.LBPHFaceRecognizer_create()"
   ]
  },
  {
   "cell_type": "code",
   "execution_count": 13,
   "metadata": {},
   "outputs": [],
   "source": [
    "face_recognizer.train(faces,np.array(labels))"
   ]
  },
  {
   "cell_type": "code",
   "execution_count": 14,
   "metadata": {},
   "outputs": [],
   "source": [
    "def draw_rectangle(img,rect):\n",
    "    (x,y,w,h) = rect\n",
    "    cv2.rectangle(img,(x,y),(x+w,y+h),(0,255,0),3)"
   ]
  },
  {
   "cell_type": "code",
   "execution_count": 15,
   "metadata": {},
   "outputs": [],
   "source": [
    "def draw_text(img,text,x,y):\n",
    "    cv2.putText(img,text,(x,y),cv2.FONT_HERSHEY_COMPLEX,1,(0,255,0),1)"
   ]
  },
  {
   "cell_type": "code",
   "execution_count": 16,
   "metadata": {},
   "outputs": [],
   "source": [
    "def predict(test_img):\n",
    "    img= test_img.copy()\n",
    "    face,rect = detect_face(img)\n",
    "    label = face_recognizer.predict(face)\n",
    "    label_text = get_name(label[0])\n",
    "    draw_rectangle(img,rect)\n",
    "    draw_text(img,label_text,rect[0],rect[1])\n",
    "    return img\n",
    "test_img1 = cv2.imread('D:/DL_project/face_recognation/messi.jpg')\n",
    "predicted = predict(test_img1)\n",
    "cv2.imshow('predicted image',predicted)\n",
    "cv2.waitKey()\n",
    "cv2.destroyAllWindows()"
   ]
  },
  {
   "cell_type": "code",
   "execution_count": null,
   "metadata": {},
   "outputs": [],
   "source": []
  }
 ],
 "metadata": {
  "kernelspec": {
   "display_name": "Python 3",
   "language": "python",
   "name": "python3"
  },
  "language_info": {
   "codemirror_mode": {
    "name": "ipython",
    "version": 3
   },
   "file_extension": ".py",
   "mimetype": "text/x-python",
   "name": "python",
   "nbconvert_exporter": "python",
   "pygments_lexer": "ipython3",
   "version": "3.11.0"
  },
  "orig_nbformat": 4
 },
 "nbformat": 4,
 "nbformat_minor": 2
}
